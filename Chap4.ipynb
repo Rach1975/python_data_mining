{
 "cells": [
  {
   "cell_type": "code",
   "execution_count": 8,
   "id": "ee3dea21-7528-4e86-87df-2972fd69f1eb",
   "metadata": {},
   "outputs": [
    {
     "name": "stdout",
     "output_type": "stream",
     "text": [
      "200\n",
      "<class 'str'>\n",
      "<!DOCTYPE html>\n",
      "<html lang=\"zh-CN\" class=\"ua-windows ua-webkit\">\n",
      "<head>\n",
      "    <meta http-equiv=\"Content-Type\" content=\"text/html; charset=utf-8\">\n",
      "    <meta name=\"renderer\" content=\"webkit\">\n",
      "    <meta name=\"referrer\" content=\"always\">\n",
      "    <meta name=\"google-site-verification\" content=\"ok0wCgT20tBBgo9_zat2iAcimtN4Ftf5ccsh092Xeyw\" />\n",
      "    <title>\n",
      "        豆瓣电影\n",
      "</title>\n",
      "    \n",
      "    <meta name=\"baidu-site-verification\" content=\"cZdR4xxR7RxmM4zE\" />\n",
      "    <meta http-equiv=\"Pragma\" content=\"no-cache\">\n",
      "    <meta\n"
     ]
    }
   ],
   "source": [
    "# Exercise 1\n",
    "import requests\n",
    "from bs4 import BeautifulSoup\n",
    "\n",
    "url = \"https://movie.douban.com/\"\n",
    "headers = {\n",
    "    \"User-Agent\": \"Mozilla/5.0 (Windows NT 10.0; Win64; x64) \"\n",
    "                  \"AppleWebKit/537.36 (KHTML, like Gecko) \"\n",
    "                  \"Chrome/118.0 Safari/537.36\"\n",
    "}\n",
    "res = requests.get(url, headers=headers)\n",
    "\n",
    "# 访问状态、文本类型、内容\n",
    "print(res.status_code)\n",
    "print(type(res.text))\n",
    "print(res.text[:500])\n",
    "\n",
    "#获取电影图片并保存\n",
    "soup = BeautifulSoup(res.text, \"html.parser\")\n",
    "img_tag = soup.find(\"img\")\n",
    "img_url = img_tag[\"src\"]\n",
    "img_data = requests.get(img_url, headers=headers).content\n",
    "\n",
    "with open(\"movie_poster.jpg\", \"wb\") as f:\n",
    "    f.write(img_data)"
   ]
  },
  {
   "cell_type": "code",
   "execution_count": 6,
   "id": "eb1f4bf2-78ca-48bb-865a-de532cb01a1f",
   "metadata": {},
   "outputs": [
    {
     "name": "stdout",
     "output_type": "stream",
     "text": [
      "<!DOCTYPE html>\n",
      "<!--STATUS OK--><html> <head><meta http-equiv=content-type content=text/html;charset=utf-8><meta http-equiv=X-UA-Compatible content=IE=Edge><meta content=always name=referrer><link rel=stylesheet type=text/css href=https://ss1.bdstatic.com/5eN1bjq8AAUYm2zgoY3K/r/www/cache/bdorz/baidu.min.css><title>ç¾åº¦ä¸ä¸ï¼ä½ å°±ç¥é</title></head> <body link=#0000cc> <div id=wrapper> <div id=head> <div class=head_wrapper> <div class=s_form> <div class=s_form_wrapper> <div id=lg> <img h\n"
     ]
    }
   ],
   "source": [
    "# Exercise 2\n",
    "import requests\n",
    "from bs4 import BeautifulSoup\n",
    "import pandas as pd\n",
    "import matplotlib.pyplot as plt\n",
    "\n",
    "# 获取数据\n",
    "url = \"https://www.eol.cn/e_html/gk/dxpm/index.shtml\"\n",
    "headers = {\n",
    "    \"User-Agent\": \"Mozilla/5.0 (Windows NT 10.0; Win64; x64) \"\n",
    "                  \"AppleWebKit/537.36 (KHTML, like Gecko) \"\n",
    "                  \"Chrome/118.0 Safari/537.36\"\n",
    "}\n",
    "res = requests.get(url, headers=headers)\n",
    "res.encoding = 'utf-8'\n",
    "\n",
    "soup = BeautifulSoup(res.text, \"html.parser\")\n",
    "rows = soup.find_all(\"tr\")\n",
    "\n",
    "\n",
    "data = []\n",
    "for row in rows[1:]:\n",
    "    cols = row.find_all(\"td\")\n",
    "    if len(cols) >= 3:\n",
    "        rank = cols[0].text.strip()\n",
    "        school = cols[1].text.strip()\n",
    "        score = cols[2].text.strip()\n",
    "        data.append([rank, school, score])\n",
    "\n",
    "df = pd.DataFrame(data, columns=[\"排名\", \"学校\", \"分数\"])\n",
    "df.to_excel(\"university_rank.xlsx\", index=False)\n",
    "\n",
    "# 画图\n",
    "top10 = df.head(10)\n",
    "plt.figure(figsize=(10,6))\n",
    "plt.bar(top10[\"学校\"], top10[\"分数\"].astype(float), color='skyblue')\n",
    "plt.xlabel(\"学校\")\n",
    "plt.ylabel(\"分数\")\n",
    "plt.title(\"中国大学排行榜前10学校分数柱状图\")\n",
    "plt.xticks(rotation=45)\n",
    "plt.tight_layout()\n",
    "plt.show()"
   ]
  }
 ],
 "metadata": {
  "kernelspec": {
   "display_name": "Python [conda env:base] *",
   "language": "python",
   "name": "conda-base-py"
  },
  "language_info": {
   "codemirror_mode": {
    "name": "ipython",
    "version": 3
   },
   "file_extension": ".py",
   "mimetype": "text/x-python",
   "name": "python",
   "nbconvert_exporter": "python",
   "pygments_lexer": "ipython3",
   "version": "3.13.5"
  }
 },
 "nbformat": 4,
 "nbformat_minor": 5
}
